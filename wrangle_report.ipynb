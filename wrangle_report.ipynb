{
 "cells": [
  {
   "cell_type": "markdown",
   "metadata": {},
   "source": [
    "Reporting for this Project\n",
    "Create a 300-600 word written report called wrangle_report.pdf or wrangle_report.html that briefly describes your wrangling efforts. This is to be framed as an internal document."
   ]
  },
  {
   "cell_type": "markdown",
   "metadata": {},
   "source": [
    "## Wrangle Report"
   ]
  },
  {
   "cell_type": "markdown",
   "metadata": {},
   "source": [
    "#### Introduction\n",
    "\n",
    "The aim of this project was to gather, assess and clean 3 data sets all focussing on the twitter account @WeRateDogs. Below I'll outline the steps that were taken to do this"
   ]
  },
  {
   "cell_type": "markdown",
   "metadata": {},
   "source": [
    "### Gathering \n",
    "\n",
    "#### Twitter archive file\n",
    "This was read into my jupyter notebook as a csv.\n",
    "#### Twitter JSON API \n",
    "This required a Twitter Developer account to allow me to query the API and store the returned data in a file that could be assessed and cleaned. \n",
    "#### Image predictions \n",
    "This contained the result of a machine learning algorithm to predict the breed of dog from the tweets on @WeRateDogs"
   ]
  },
  {
   "cell_type": "markdown",
   "metadata": {},
   "source": [
    "### Assessing \n",
    "\n",
    "I began by visually assessing the data and looking for any obvious issues with the data sets. I then moved onto programatically assess the data by applying such methods as .info() .describe() and .duplicated()\n",
    "\n",
    "This gave me a better understanding of the issues that needed to be tackled in the nest step - cleaning."
   ]
  },
  {
   "cell_type": "markdown",
   "metadata": {},
   "source": [
    "### Cleaning \n",
    "\n",
    "For this stage of the process I took the information that had been learned from thr assessing stage and looked to solve these issues programatically. \n",
    "\n",
    "Using the methods shown earlier in the course I cleaned the data by a process of define, code, test. This allowed me to methodically work through each issue and clean the data."
   ]
  },
  {
   "cell_type": "markdown",
   "metadata": {},
   "source": [
    "### Conclusion \n",
    "\n",
    "This was an interesting project that allowed me to implement and bring together the key steps and processes of data wrangling. As I only focussed on a limited number of issues the data was not fully cleaned, but given more scope and time I would have been able to tackle each issue as needed. "
   ]
  },
  {
   "cell_type": "code",
   "execution_count": null,
   "metadata": {},
   "outputs": [],
   "source": []
  }
 ],
 "metadata": {
  "kernelspec": {
   "display_name": "Python 3",
   "language": "python",
   "name": "python3"
  },
  "language_info": {
   "codemirror_mode": {
    "name": "ipython",
    "version": 3
   },
   "file_extension": ".py",
   "mimetype": "text/x-python",
   "name": "python",
   "nbconvert_exporter": "python",
   "pygments_lexer": "ipython3",
   "version": "3.6.3"
  }
 },
 "nbformat": 4,
 "nbformat_minor": 2
}
